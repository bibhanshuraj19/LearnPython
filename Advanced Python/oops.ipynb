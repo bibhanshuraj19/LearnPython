{
 "cells": [
  {
   "metadata": {
    "ExecuteTime": {
     "end_time": "2025-08-12T07:45:44.466266Z",
     "start_time": "2025-08-12T07:45:44.462331Z"
    }
   },
   "cell_type": "code",
   "source": [
    "class Dog :\n",
    "    species = \"Canine\"\n",
    "\n",
    "    def __init__(self,name,age):\n",
    "        self.name = name\n",
    "        self.age = age"
   ],
   "id": "568a3571eee0cd0f",
   "outputs": [],
   "execution_count": 1
  },
  {
   "metadata": {
    "ExecuteTime": {
     "end_time": "2025-08-12T07:49:42.960190Z",
     "start_time": "2025-08-12T07:49:42.951751Z"
    }
   },
   "cell_type": "code",
   "source": [
    "class Dog() :\n",
    "    species = \"Canine\"\n",
    "\n",
    "    def __init__(self,name,age):\n",
    "        self.name = name\n",
    "        self.age = age\n",
    "dog1 = Dog(\"Julia\",19)\n",
    "print(dog1.name,dog1.age)\n",
    "print(dog1.species)"
   ],
   "id": "4af135227fea1e84",
   "outputs": [
    {
     "name": "stdout",
     "output_type": "stream",
     "text": [
      "Julia 19\n",
      "Canine\n"
     ]
    }
   ],
   "execution_count": 6
  },
  {
   "metadata": {
    "ExecuteTime": {
     "end_time": "2025-08-12T07:51:18.327164Z",
     "start_time": "2025-08-12T07:51:18.321849Z"
    }
   },
   "cell_type": "code",
   "source": [
    "class Dog :\n",
    "    species = \"Canine\"\n",
    "    def __init__(self,name,age):\n",
    "        self.name = name\n",
    "        self.age = age\n",
    "dog1 = Dog(\"Buddy\",3)\n",
    "dog2 = Dog(\"Kutta\",5)\n",
    "\n",
    "print(dog1.species,dog1.age,dog1.name)\n",
    "print(dog2.species,dog2.age,dog2.name)\n",
    "print(Dog.species)"
   ],
   "id": "835d28b0a30412d6",
   "outputs": [
    {
     "name": "stdout",
     "output_type": "stream",
     "text": [
      "Canine 3 Buddy\n",
      "Canine 5 Kutta\n",
      "Canine\n"
     ]
    }
   ],
   "execution_count": 7
  },
  {
   "metadata": {
    "ExecuteTime": {
     "end_time": "2025-08-12T07:53:58.472570Z",
     "start_time": "2025-08-12T07:53:58.466574Z"
    }
   },
   "cell_type": "code",
   "source": [
    "class Dog:\n",
    "    species = \"Canine\"\n",
    "\n",
    "    def __init__(self,name,age):\n",
    "        self.name = name\n",
    "        self.age = age\n",
    "\n",
    "# Create Objects\n",
    "dog1 = Dog(\"Julia\",19)\n",
    "dog2 = Dog(\"Buddy\",3)\n",
    "\n",
    "print(dog1.species,dog1.age,dog1.name)\n",
    "\n",
    "# Modify the instance variable\n",
    "dog1.name = \"Max\"\n",
    "print(dog1.name)\n",
    "\n",
    "Dog.species = \"Feline\"\n",
    "print(Dog.species)\n",
    "print(dog2.species)"
   ],
   "id": "f4d5319b48cb2dfd",
   "outputs": [
    {
     "name": "stdout",
     "output_type": "stream",
     "text": [
      "Canine 19 Julia\n",
      "Max\n",
      "Feline\n",
      "Feline\n"
     ]
    }
   ],
   "execution_count": 8
  },
  {
   "metadata": {
    "ExecuteTime": {
     "end_time": "2025-08-12T07:58:06.295585Z",
     "start_time": "2025-08-12T07:58:06.288908Z"
    }
   },
   "cell_type": "code",
   "source": [
    "# Single inheritance\n",
    "class Dog:\n",
    "    def __init__(self,name,age):\n",
    "        self.name = name\n",
    "\n",
    "        def display_name(self):\n",
    "            print(f\"dog name : {self.name}\")\n",
    "\n",
    "class labrador(Dog) :\n",
    "    def sound(self):\n",
    "        print(f\"labrador woof\")"
   ],
   "id": "ad508f7cdd74e9db",
   "outputs": [],
   "execution_count": 11
  },
  {
   "metadata": {
    "ExecuteTime": {
     "end_time": "2025-08-12T08:09:20.763932Z",
     "start_time": "2025-08-12T08:09:20.748650Z"
    }
   },
   "cell_type": "code",
   "source": [
    "# Single Inheritance\n",
    "class Dog:\n",
    "    def __init__(self, name):\n",
    "        self.name = name\n",
    "\n",
    "    def display_name(self):\n",
    "        print(f\"Dog's Name: {self.name}\")\n",
    "\n",
    "class Labrador(Dog):  # Single Inheritance\n",
    "    def sound(self):\n",
    "        print(\"Labrador woofs\")\n",
    "\n",
    "# Multilevel Inheritance\n",
    "class GuideDog(Labrador):  # Multilevel Inheritance\n",
    "    def guide(self):\n",
    "        print(f\"{self.name}Guides the way!\")\n",
    "\n",
    "# Multiple Inheritance\n",
    "class Friendly:\n",
    "    def greet(self):\n",
    "        print(\"Friendly!\")\n",
    "\n",
    "class GoldenRetriever(Dog, Friendly):  # Multiple Inheritance\n",
    "    def sound(self):\n",
    "        print(\"Golden Retriever Barks\")\n",
    "\n",
    "# Example Usage\n",
    "lab = Labrador(\"Buddy\")\n",
    "lab.display_name()\n",
    "lab.sound()\n",
    "\n",
    "guide_dog = GuideDog(\"Max\")\n",
    "guide_dog.display_name()\n",
    "guide_dog.guide()\n",
    "\n",
    "retriever = GoldenRetriever(\"Charlie\")\n",
    "retriever.display_name()\n",
    "retriever.greet()\n",
    "retriever.sound()"
   ],
   "id": "70603d6aca560748",
   "outputs": [
    {
     "name": "stdout",
     "output_type": "stream",
     "text": [
      "Dog's Name: Buddy\n",
      "Labrador woofs\n",
      "Dog's Name: Max\n",
      "MaxGuides the way!\n",
      "Dog's Name: Charlie\n",
      "Friendly!\n",
      "Golden Retriever Barks\n"
     ]
    }
   ],
   "execution_count": 12
  },
  {
   "metadata": {
    "ExecuteTime": {
     "end_time": "2025-08-12T08:38:28.181670Z",
     "start_time": "2025-08-12T08:38:28.170959Z"
    }
   },
   "cell_type": "code",
   "source": [
    "# Parent Class\n",
    "class Dog:\n",
    "    def sound(self):\n",
    "        print(\"Dog's name\")\n",
    "\n",
    "# Run-Time Polymorphism: Method Overriding\n",
    "class Labrador(Dog):\n",
    "    def sound(self):\n",
    "        print(\"Labrador woof\") # Overriding parent method\n",
    "\n",
    "class Beagle(Dog):\n",
    "    def sound(self):\n",
    "        print(\"Beagle woof\") # Overriding parent method\n",
    "\n",
    "class Calculator:\n",
    "    def add(self, a, b=0, c=0):\n",
    "        return a+b+c\n",
    "\n",
    "# Run time polymorphism\n",
    "dogs = [Dog(), Labrador(), Beagle()]\n",
    "for dog in dogs:\n",
    "    dog.sound()\n",
    "\n",
    "calc = Calculator()\n",
    "print(calc.add(2,3))"
   ],
   "id": "b9f2869cfa37d351",
   "outputs": [
    {
     "name": "stdout",
     "output_type": "stream",
     "text": [
      "Dog's name\n",
      "Labrador woof\n",
      "Beagle woof\n",
      "5\n"
     ]
    }
   ],
   "execution_count": 13
  }
 ],
 "metadata": {},
 "nbformat": 4,
 "nbformat_minor": 5
}

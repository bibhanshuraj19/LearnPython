{
 "cells": [
  {
   "metadata": {
    "ExecuteTime": {
     "end_time": "2025-08-12T08:49:03.237736Z",
     "start_time": "2025-08-12T08:49:03.233176Z"
    }
   },
   "cell_type": "code",
   "source": [
    "n = 10\n",
    "try :\n",
    "    res = n / 0\n",
    "\n",
    "except ZeroDivisionError:\n",
    "    print(\"You can't divide by zero\")"
   ],
   "id": "294e06193606ab31",
   "outputs": [
    {
     "name": "stdout",
     "output_type": "stream",
     "text": [
      "You can't divide by zero\n"
     ]
    }
   ],
   "execution_count": 1
  },
  {
   "metadata": {
    "ExecuteTime": {
     "end_time": "2025-08-12T09:56:54.498479Z",
     "start_time": "2025-08-12T09:56:54.488494Z"
    }
   },
   "cell_type": "code",
   "source": [
    "try :\n",
    "    n = 0\n",
    "    res = 100 / n\n",
    "\n",
    "except ZeroDivisionError:\n",
    "    print(\"You can't divide by zero\")\n",
    "except ValueError :\n",
    "    print(\"Valued error\")\n",
    "else :\n",
    "    print(res)\n",
    "finally:\n",
    "    print(\"Closing program\")"
   ],
   "id": "14bd0266fe36aab0",
   "outputs": [
    {
     "name": "stdout",
     "output_type": "stream",
     "text": [
      "You can't divide by zero\n",
      "Closing program\n"
     ]
    }
   ],
   "execution_count": 2
  },
  {
   "metadata": {
    "ExecuteTime": {
     "end_time": "2025-08-12T09:59:10.321811Z",
     "start_time": "2025-08-12T09:59:10.315894Z"
    }
   },
   "cell_type": "code",
   "source": [
    "try :\n",
    "    x = int(\"str\")\n",
    "\n",
    "    inv = 1 / x\n",
    "\n",
    "except ValueError :\n",
    "    print(\"Not Valid!\")\n",
    "except ZeroDivisionError :\n",
    "    print(\"NO Inverse\")"
   ],
   "id": "784a268b9d1307f",
   "outputs": [
    {
     "name": "stdout",
     "output_type": "stream",
     "text": [
      "Not Valid!\n"
     ]
    }
   ],
   "execution_count": 3
  },
  {
   "metadata": {
    "ExecuteTime": {
     "end_time": "2025-08-12T10:02:58.347843Z",
     "start_time": "2025-08-12T10:02:58.340095Z"
    }
   },
   "cell_type": "code",
   "source": [
    "a = [\"10\",\"twenty\",30]\n",
    "try :\n",
    "    total = int(a[10]) + int(a[1])\n",
    "\n",
    "except (ValueError,TypeError) as e :\n",
    "    print(e)\n",
    "\n",
    "except IndexError :\n",
    "    print(\"Index out of range\")"
   ],
   "id": "38e715fab669825d",
   "outputs": [
    {
     "name": "stdout",
     "output_type": "stream",
     "text": [
      "Index out of range\n"
     ]
    }
   ],
   "execution_count": 4
  },
  {
   "metadata": {
    "ExecuteTime": {
     "end_time": "2025-08-12T10:04:13.422621Z",
     "start_time": "2025-08-12T10:04:13.418227Z"
    }
   },
   "cell_type": "code",
   "source": [
    "try :\n",
    "    res = \"100\" / 20\n",
    "\n",
    "except ArithmeticError :\n",
    "    print(\"Arithmetic error\")\n",
    "except :\n",
    "    print(\"Oops! Something went wrong\")"
   ],
   "id": "13d5f4a02525495d",
   "outputs": [
    {
     "name": "stdout",
     "output_type": "stream",
     "text": [
      "Oops! Something went wrong\n"
     ]
    }
   ],
   "execution_count": 5
  },
  {
   "metadata": {
    "ExecuteTime": {
     "end_time": "2025-08-12T10:06:07.967629Z",
     "start_time": "2025-08-12T10:06:07.961075Z"
    }
   },
   "cell_type": "code",
   "source": [
    "def set(age) :\n",
    "    if age < 0 :\n",
    "        raise ValueError(\"age cannot be divided by zero\")\n",
    "    print(f\"age set to {age}\")\n",
    "\n",
    "try :\n",
    "    set(-5)\n",
    "except ValueError as e :\n",
    "    print(e)"
   ],
   "id": "4d4e90791f624815",
   "outputs": [
    {
     "name": "stdout",
     "output_type": "stream",
     "text": [
      "age cannot be divided by zero\n"
     ]
    }
   ],
   "execution_count": 6
  },
  {
   "metadata": {
    "ExecuteTime": {
     "end_time": "2025-08-12T10:13:10.659596Z",
     "start_time": "2025-08-12T10:13:10.651871Z"
    }
   },
   "cell_type": "code",
   "source": [
    "def set(age) :\n",
    "    if age < 0 :\n",
    "        raise ValueError(\"age cannot be negative\")\n",
    "    print(f\"age set to {age}\")\n",
    "try :\n",
    "    set(-5)\n",
    "except ValueError as e :\n",
    "    print(e)"
   ],
   "id": "1332f1980be7c9f9",
   "outputs": [
    {
     "name": "stdout",
     "output_type": "stream",
     "text": [
      "age cannot be negative\n"
     ]
    }
   ],
   "execution_count": 7
  },
  {
   "metadata": {},
   "cell_type": "markdown",
   "source": "# File Handling",
   "id": "5a54d71c957a1c3b"
  },
  {
   "metadata": {},
   "cell_type": "code",
   "outputs": [],
   "execution_count": null,
   "source": "",
   "id": "c9cbecdc2bf287ae"
  }
 ],
 "metadata": {},
 "nbformat": 4,
 "nbformat_minor": 5
}
